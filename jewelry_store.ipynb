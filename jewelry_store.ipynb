{
  "metadata": {
    "kernelspec": {
      "name": "python",
      "display_name": "Python (Pyodide)",
      "language": "python"
    },
    "language_info": {
      "codemirror_mode": {
        "name": "python",
        "version": 3
      },
      "file_extension": ".py",
      "mimetype": "text/x-python",
      "name": "python",
      "nbconvert_exporter": "python",
      "pygments_lexer": "ipython3",
      "version": "3.8"
    }
  },
  "nbformat_minor": 5,
  "nbformat": 4,
  "cells": [
    {
      "id": "a67527ee-8842-44ef-bedb-ad93f6289af2",
      "cell_type": "code",
      "source": "# Project: Purchases focused on the season and the customer\n# Purpose: Help a jewelry store decide what to purchase each season, based on inventory, budget, and material costs.\n# Location: Guatemala City\n# Author: [Eduardo Mart.]\n# Date: 2025-06-02\n\nimport pandas as pd\nimport sqlite3\nfrom datetime import datetime\n\n# --- Configuration ---\n# Define key parameters for the purchase planning\nBUDGET_BY_MONTH = {\n    'January': 60000,\n    'March': 80000,\n    'May': 150000,\n    'July': 300000  # Forecast\n}\n\nSTOCK_LEFT_PERCENTAGE = {\n    'February': 0.35,\n    'April': 0.28,\n    'June': 0.13  # Forecast\n}\n\nSILVER_PRICE_PER_GRAM = 29\nGOLD_PRICE_PER_GRAM = 500\n\nSILVER_INVENTORY_KG = {\n    'January': 6,\n    'March': 10,\n    'May': 12,\n    'July': 15  # Forecast\n}\n\nGOLD_INVENTORY_GRAMS = {\n    'March': 250,\n    'July': 400  # Forecast\n}\n\nEXCEL_FILE_NAME = \"jewelry_purchase_plan.xlsx\"\nDATABASE_FILE_NAME = \"jewelry_store.db\"\nTABLE_NAME = \"purchase_plan\"\n\n# --- Data Processing ---\ndef create_purchase_dataframe():\n    \"\"\"\n    Creates a pandas DataFrame detailing the monthly jewelry purchase plan\n    based on budget, material costs, and inventory.\n    \"\"\"\n    records = []\n    for month, budget in BUDGET_BY_MONTH.items():\n        silver_grams = SILVER_INVENTORY_KG.get(month, 0) * 1000  # Convert kg to grams\n        silver_cost = silver_grams * SILVER_PRICE_PER_GRAM\n\n        gold_grams = GOLD_INVENTORY_GRAMS.get(month, 0)\n        gold_cost = gold_grams * GOLD_PRICE_PER_GRAM\n\n        total_material_cost = silver_cost + gold_cost\n        remaining_budget = budget - total_material_cost\n\n        # Include stock left percentage if available for the month\n        stock_percentage = STOCK_LEFT_PERCENTAGE.get(month, 0.0)\n\n        records.append({\n            'Month': month,\n            'Budget (Q)': budget,\n            'Silver (g)': silver_grams,\n            'Gold (g)': gold_grams,\n            'Silver Cost (Q)': silver_cost,\n            'Gold Cost (Q)': gold_cost,\n            'Total Material Cost (Q)': total_material_cost,\n            'Remaining Budget (Q)': remaining_budget,\n            'Stock Left (%)': stock_percentage\n        })\n    return pd.DataFrame(records)\n\ndef export_to_excel(df, filename):\n    \"\"\"\n    Exports the DataFrame to an Excel file.\n    \"\"\"\n    try:\n        df.to_excel(filename, index=False)\n        print(f\"Data successfully exported to {filename}\")\n    except Exception as e:\n        print(f\"Error exporting to Excel: {e}\")\n\ndef create_and_populate_database(df, db_name, table_name):\n    \"\"\"\n    Creates an SQLite database and populates a table with the DataFrame content.\n    \"\"\"\n    conn = None\n    try:\n        conn = sqlite3.connect(db_name)\n        cursor = conn.cursor()\n\n        # Dynamically create CREATE TABLE SQL based on DataFrame columns\n        # This makes the table creation more robust to changes in DataFrame structure\n        columns = \", \".join([f\"{col.replace(' ', '_').replace('(', '').replace(')', '')} REAL\" if 'Cost' in col or 'Budget' in col or 'g' in col or '%' in col else f\"{col.replace(' ', '_')} TEXT\" for col in df.columns])\n        create_table_sql = f\"CREATE TABLE IF NOT EXISTS {table_name} ({columns})\"\n        cursor.execute(create_table_sql)\n\n        # Use to_sql for efficient DataFrame insertion\n        df.to_sql(table_name, conn, if_exists='replace', index=False)\n        conn.commit()\n        print(f\"Data successfully saved to SQLite database '{db_name}' in table '{table_name}'\")\n    except sqlite3.Error as e:\n        print(f\"SQLite error: {e}\")\n    finally:\n        if conn:\n            conn.close()\n\n# --- Main Execution ---\nif __name__ == \"__main__\":\n    print(\"Generating Monthly Jewelry Purchase Plan...\")\n\n    purchase_df = create_purchase_dataframe()\n\n    print(\"\\nMonthly Jewelry Purchase Plan:\")\n    print(purchase_df)\n\n    export_to_excel(purchase_df, EXCEL_FILE_NAME)\n    create_and_populate_database(purchase_df, DATABASE_FILE_NAME, TABLE_NAME)\n\n    print(\"\\n--- Process Complete ---\")\n    print(\"Next steps: Visualize the data in Tableau or Power BI for deeper insights.\")",
      "metadata": {
        "trusted": true
      },
      "outputs": [
        {
          "name": "stdout",
          "output_type": "stream",
          "text": "Generating Monthly Jewelry Purchase Plan...\n\nMonthly Jewelry Purchase Plan:\n     Month  Budget (Q)  Silver (g)  Gold (g)  Silver Cost (Q)  Gold Cost (Q)  \\\n0  January       60000        6000         0           174000              0   \n1    March       80000       10000       250           290000         125000   \n2      May      150000       12000         0           348000              0   \n3     July      300000       15000       400           435000         200000   \n\n   Total Material Cost (Q)  Remaining Budget (Q)  Stock Left (%)  \n0                   174000               -114000             0.0  \n1                   415000               -335000             0.0  \n2                   348000               -198000             0.0  \n3                   635000               -335000             0.0  \nError exporting to Excel: No module named 'openpyxl'\nSQLite error: near \"%\": syntax error\n\n--- Process Complete ---\nNext steps: Visualize the data in Tableau or Power BI for deeper insights.\n"
        }
      ],
      "execution_count": 1
    },
    {
      "id": "025cd675-1700-42e1-995f-8b6dac3b26ca",
      "cell_type": "code",
      "source": "",
      "metadata": {
        "trusted": true
      },
      "outputs": [],
      "execution_count": null
    }
  ]
}
